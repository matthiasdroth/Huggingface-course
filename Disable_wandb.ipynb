{
 "cells": [
  {
   "cell_type": "markdown",
   "id": "b4163e8a-d051-4547-8bbd-8e7dfec18cc2",
   "metadata": {},
   "source": [
    "# Disable `wandb`"
   ]
  },
  {
   "cell_type": "code",
   "execution_count": 1,
   "id": "e559f38e-8e0a-4454-9e7d-8b600a8ac883",
   "metadata": {},
   "outputs": [],
   "source": [
    "import os\n",
    "os.environ[\"WANDB_DISABLED\"] = \"true\""
   ]
  },
  {
   "cell_type": "markdown",
   "id": "7470f933-da20-4f49-934c-e4964afef012",
   "metadata": {},
   "source": [
    "This is very important: it disables `wandb` within the entire folder that contains this file (the `Disable_wandb.ipynb`file).\n",
    "\n",
    "$\\checkmark$"
   ]
  }
 ],
 "metadata": {
  "kernelspec": {
   "display_name": "Python 3 (ipykernel)",
   "language": "python",
   "name": "python3"
  },
  "language_info": {
   "codemirror_mode": {
    "name": "ipython",
    "version": 3
   },
   "file_extension": ".py",
   "mimetype": "text/x-python",
   "name": "python",
   "nbconvert_exporter": "python",
   "pygments_lexer": "ipython3",
   "version": "3.12.3"
  }
 },
 "nbformat": 4,
 "nbformat_minor": 5
}
