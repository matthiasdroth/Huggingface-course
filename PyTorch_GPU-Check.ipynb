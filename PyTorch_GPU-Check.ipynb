{
 "cells": [
  {
   "cell_type": "markdown",
   "id": "38019597-be81-4579-8eff-6c98ad32f2c0",
   "metadata": {},
   "source": [
    "# Checking GPU Support for PyTorch\n",
    "\n",
    "Command for installing pytorch 2.3.1 with CUDA support on a system with NVidia driver 535.183.01:<br>\n",
    "`$ pip install torch==2.3.1 torchvision==0.18.1 torchaudio==2.3.1 --index-url https://download.pytorch.org/whl/cu121`<br><br>\n",
    "See also https://pytorch.org/get-started/previous-versions."
   ]
  },
  {
   "cell_type": "code",
   "execution_count": 2,
   "id": "010c0c5a",
   "metadata": {},
   "outputs": [
    {
     "name": "stdout",
     "output_type": "stream",
     "text": [
      "2.3.1+cu121\n"
     ]
    },
    {
     "data": {
      "text/plain": [
       "'NVIDIA GeForce RTX 3060'"
      ]
     },
     "execution_count": 2,
     "metadata": {},
     "output_type": "execute_result"
    }
   ],
   "source": [
    "import torch\n",
    "print(torch.__version__)\n",
    "torch.cuda.get_device_name(torch.cuda.current_device())"
   ]
  },
  {
   "cell_type": "markdown",
   "id": "a05d850c",
   "metadata": {},
   "source": [
    "GeForce RTX rules!"
   ]
  }
 ],
 "metadata": {
  "kernelspec": {
   "display_name": "Python 3 (ipykernel)",
   "language": "python",
   "name": "python3"
  },
  "language_info": {
   "codemirror_mode": {
    "name": "ipython",
    "version": 3
   },
   "file_extension": ".py",
   "mimetype": "text/x-python",
   "name": "python",
   "nbconvert_exporter": "python",
   "pygments_lexer": "ipython3",
   "version": "3.12.3"
  }
 },
 "nbformat": 4,
 "nbformat_minor": 5
}
