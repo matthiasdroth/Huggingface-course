{
 "cells": [
  {
   "cell_type": "markdown",
   "id": "53cc7635",
   "metadata": {},
   "source": [
    "# Datasets compressed via `zstandard`\n",
    "https://github.com/EleutherAI/the-pile<br>\n",
    "> **https://the-eye.eu/public/AI/pile/train/** > **make small versions**!!!\n",
    "\n",
    "The paragraph [*What is the Pile?*](https://huggingface.co/learn/nlp-course/chapter5/4?fw=pt#what-is-the-pile) in section 5 of the [HuggingFace course](https://huggingface.co/learn/nlp-course/chapter1/1?fw=pt), the dataset [***the Pile***](https://en.wikipedia.org/wiki/The_Pile_(dataset)) is used to load the PubMed abstracts dataset in `.jsonl.zst` format, thus making use of the `zstandard` library that is used for compression.\n",
    "\n",
    "However, the dataset source given in the course does not serve that dataset anymore. This notebook uses the [PubMed 200k RCT](https://www.kaggle.com/datasets/matthewjansen/pubmed-200k-rtc) kaggle dataset and brings it into the `jsonl.zst` format so that it can be used as a drop-in replacement for the Pile's PubMed abstracts dataset.\n",
    "\n",
    "First, create a HuggingFace `Dataset` by loading the appropriate `.csv` file."
   ]
  },
  {
   "cell_type": "code",
   "execution_count": 1,
   "id": "1f313819",
   "metadata": {},
   "outputs": [
    {
     "name": "stdout",
     "output_type": "stream",
     "text": [
      "DatasetDict({\n",
      "    train: Dataset({\n",
      "        features: ['abstract_text', 'target'],\n",
      "        num_rows: 2211861\n",
      "    })\n",
      "})\n"
     ]
    },
    {
     "data": {
      "application/vnd.jupyter.widget-view+json": {
       "model_id": "3b100525f63c4e738f620b9708beee4b",
       "version_major": 2,
       "version_minor": 0
      },
      "text/plain": [
       "Creating json from Arrow format:   0%|          | 0/2212 [00:00<?, ?ba/s]"
      ]
     },
     "metadata": {},
     "output_type": "display_data"
    },
    {
     "name": "stdout",
     "output_type": "stream",
     "text": [
      "Compression completed!\n",
      "DatasetDict({\n",
      "    train: Dataset({\n",
      "        features: ['abstract_text', 'target'],\n",
      "        num_rows: 7\n",
      "    })\n",
      "})\n"
     ]
    },
    {
     "data": {
      "application/vnd.jupyter.widget-view+json": {
       "model_id": "041a1507bf714f4183610c109028ff6a",
       "version_major": 2,
       "version_minor": 0
      },
      "text/plain": [
       "Creating json from Arrow format:   0%|          | 0/1 [00:00<?, ?ba/s]"
      ]
     },
     "metadata": {},
     "output_type": "display_data"
    },
    {
     "name": "stdout",
     "output_type": "stream",
     "text": [
      "Compression completed!\n",
      "PubMed-200k-RTC_train.csv\t PubMed-200k-RTC_train_min.csv\n",
      "PubMed-200k-RTC_train.jsonl\t PubMed-200k-RTC_train_min.jsonl\n",
      "PubMed-200k-RTC_train.jsonl.zst  PubMed-200k-RTC_train_min.jsonl.zst\n"
     ]
    }
   ],
   "source": [
    "import os\n",
    "import zstandard as zstd\n",
    "from dotenv import load_dotenv\n",
    "from datasets import load_dataset\n",
    "from huggingface_hub import login\n",
    "\n",
    "def compress_jsonl_zst(input_file, output_file):\n",
    "    cctx = zstd.ZstdCompressor(level=3)\n",
    "    with open(input_file, \"rb\") as f_in:\n",
    "        with open(output_file, \"wb\") as f_out:\n",
    "            compressor = cctx.stream_writer(f_out)\n",
    "            for line in f_in:\n",
    "                compressor.write(line)\n",
    "            compressor.flush(zstd.FLUSH_FRAME)\n",
    "    print(\"Compression completed!\")\n",
    "\n",
    "subpath = \"pubmed_data/PubMed-200k-RTC_\"\n",
    "for version in [\"train\", \"train_min\"]:\n",
    "    dataset = load_dataset(\"csv\", data_files=f\"{subpath+version}.csv\").remove_columns([\n",
    "        \"abstract_id\", \"line_id\", \"line_number\", \"total_lines\"\n",
    "    ])\n",
    "    print(dataset)\n",
    "    jsonl_path = f\"{subpath+version}.jsonl\"\n",
    "    dataset[\"train\"].to_json(jsonl_path)\n",
    "    compress_jsonl_zst(jsonl_path, jsonl_path+\".zst\")\n",
    "\n",
    "!ls \"pubmed_data\""
   ]
  },
  {
   "cell_type": "markdown",
   "id": "726a5da8-b0b2-409a-8241-d0486e74cac7",
   "metadata": {},
   "source": [
    "Inspect a dataset instance!"
   ]
  },
  {
   "cell_type": "code",
   "execution_count": 2,
   "id": "28de402b-7c5a-47d1-a1b2-891894486b9c",
   "metadata": {},
   "outputs": [
    {
     "name": "stdout",
     "output_type": "stream",
     "text": [
      "{'abstract_text': \"The intervention group will participate in the online group program ` Positive Outlook ' .\", 'target': 'METHODS'}\n"
     ]
    }
   ],
   "source": [
    "i = 3\n",
    "print(dataset[\"train\"][i])"
   ]
  },
  {
   "cell_type": "markdown",
   "id": "40bb3a08-cd17-45d2-a9bb-b390fe5509bf",
   "metadata": {},
   "source": [
    "Show the file sizes."
   ]
  },
  {
   "cell_type": "code",
   "execution_count": 3,
   "id": "868e7a86",
   "metadata": {},
   "outputs": [
    {
     "name": "stdout",
     "output_type": "stream",
     "text": [
      "DatasetDict({\n",
      "    train: Dataset({\n",
      "        features: ['case_outcome', 'case_title', 'case_text'],\n",
      "        num_rows: 24985\n",
      "    })\n",
      "})\n",
      "\n",
      "jsonl_path: legalcitation_data/LegalText-classification_train.jsonl\n"
     ]
    },
    {
     "data": {
      "application/vnd.jupyter.widget-view+json": {
       "model_id": "913982a05b1d47b8a5a76ed1ecdefe1b",
       "version_major": 2,
       "version_minor": 0
      },
      "text/plain": [
       "Creating json from Arrow format:   0%|          | 0/25 [00:00<?, ?ba/s]"
      ]
     },
     "metadata": {},
     "output_type": "display_data"
    },
    {
     "name": "stdout",
     "output_type": "stream",
     "text": [
      "Compression completed!\n",
      "DatasetDict({\n",
      "    train: Dataset({\n",
      "        features: ['case_outcome', 'case_title', 'case_text'],\n",
      "        num_rows: 4\n",
      "    })\n",
      "})\n",
      "\n",
      "jsonl_path: legalcitation_data/LegalText-classification_train_min.jsonl\n"
     ]
    },
    {
     "data": {
      "application/vnd.jupyter.widget-view+json": {
       "model_id": "a1e507d538874c0e97206eedb0cb8a14",
       "version_major": 2,
       "version_minor": 0
      },
      "text/plain": [
       "Creating json from Arrow format:   0%|          | 0/1 [00:00<?, ?ba/s]"
      ]
     },
     "metadata": {},
     "output_type": "display_data"
    },
    {
     "name": "stdout",
     "output_type": "stream",
     "text": [
      "Compression completed!\n",
      "total 40\n",
      "drwxr-xr-x 5 matthias matthias  4096 Feb 18 12:55 .\n",
      "drwxr-xr-x 6 matthias matthias  4096 Feb 17 01:28 ..\n",
      "drwxr-xr-x 2 matthias matthias  4096 Feb 16 13:58 .ipynb_checkpoints\n",
      "drwxr-xr-x 2 matthias matthias  4096 Jul 15  2023 legalcitation_data\n",
      "drwxr-xr-x 2 matthias matthias  4096 Jul 15  2023 pubmed_data\n",
      "-rwxr-xr-x 1 matthias matthias  1890 Jul 15  2023 README.md\n",
      "-rwxr-xr-x 1 matthias matthias 12998 Feb 18 12:55 Zstandard_datasets.ipynb\n"
     ]
    }
   ],
   "source": [
    "subpath = \"legalcitation_data/LegalText-classification_\"\n",
    "for version in [\"train\", \"train_min\"]:\n",
    "    dataset = load_dataset(\"csv\", data_files=f\"{subpath+version}.csv\").remove_columns([\n",
    "        \"case_id\"\n",
    "    ])\n",
    "    print(dataset)\n",
    "    jsonl_path = f\"{subpath+version}.jsonl\"\n",
    "    print(f\"\\njsonl_path: {jsonl_path}\")\n",
    "    dataset[\"train\"].to_json(jsonl_path)\n",
    "    compress_jsonl_zst(jsonl_path, jsonl_path+\".zst\")\n",
    "!ls -al"
   ]
  },
  {
   "cell_type": "markdown",
   "id": "3f2b2ee6",
   "metadata": {},
   "source": [
    "Check whether the dataset can be recreated from the compressed format and login to the HugginFace hub prior to pushing the dataset to its remote repo on the hub."
   ]
  },
  {
   "cell_type": "code",
   "execution_count": 4,
   "id": "220687b6",
   "metadata": {},
   "outputs": [
    {
     "data": {
      "text/plain": [
       "Dataset({\n",
       "    features: ['case_id', 'case_outcome', 'case_title', 'case_text'],\n",
       "    num_rows: 4\n",
       "})"
      ]
     },
     "execution_count": 4,
     "metadata": {},
     "output_type": "execute_result"
    }
   ],
   "source": [
    "data_files = \"legalcitation_data/LegalText-classification_train_min.csv\"   # choose one of the files listed above and ...\n",
    "pubmed_dataset = load_dataset(\"csv\", data_files=data_files, split=\"train\") # ... adapt the file type (.csv, .jsonl, .json.zst)\n",
    "pubmed_dataset"
   ]
  },
  {
   "cell_type": "markdown",
   "id": "cf349d9e",
   "metadata": {},
   "source": [
    "Push the dataset to the hub."
   ]
  },
  {
   "cell_type": "code",
   "execution_count": 5,
   "id": "6dcf51e1",
   "metadata": {},
   "outputs": [
    {
     "data": {
      "application/vnd.jupyter.widget-view+json": {
       "model_id": "60af8aa2c5a048999fc49d9766c924b6",
       "version_major": 2,
       "version_minor": 0
      },
      "text/plain": [
       "Uploading the dataset shards:   0%|          | 0/1 [00:00<?, ?it/s]"
      ]
     },
     "metadata": {},
     "output_type": "display_data"
    },
    {
     "data": {
      "application/vnd.jupyter.widget-view+json": {
       "model_id": "525c8319529140c5bf453317f45655f3",
       "version_major": 2,
       "version_minor": 0
      },
      "text/plain": [
       "Creating parquet from Arrow format:   0%|          | 0/1 [00:00<?, ?ba/s]"
      ]
     },
     "metadata": {},
     "output_type": "display_data"
    },
    {
     "data": {
      "application/vnd.jupyter.widget-view+json": {
       "model_id": "5f67f36d68544ecab4f046bb85ae8720",
       "version_major": 2,
       "version_minor": 0
      },
      "text/plain": [
       "README.md:   0%|          | 0.00/383 [00:00<?, ?B/s]"
      ]
     },
     "metadata": {},
     "output_type": "display_data"
    },
    {
     "name": "stderr",
     "output_type": "stream",
     "text": [
      "No files have been modified since last commit. Skipping to prevent empty commit.\n"
     ]
    },
    {
     "data": {
      "text/plain": [
       "Dataset({\n",
       "    features: ['case_id', 'case_outcome', 'case_title', 'case_text'],\n",
       "    num_rows: 4\n",
       "})"
      ]
     },
     "execution_count": 5,
     "metadata": {},
     "output_type": "execute_result"
    }
   ],
   "source": [
    "load_dotenv()\n",
    "login(token=os.getenv(\"HUGGINGFACE_TOKEN\"))\n",
    "pubmed_dataset.push_to_hub(\"TheMiniPile\")\n",
    "pubmed_dataset"
   ]
  },
  {
   "cell_type": "markdown",
   "id": "9d413c2f",
   "metadata": {},
   "source": [
    "$\\checkmark$"
   ]
  }
 ],
 "metadata": {
  "kernelspec": {
   "display_name": "Python 3 (ipykernel)",
   "language": "python",
   "name": "python3"
  },
  "language_info": {
   "codemirror_mode": {
    "name": "ipython",
    "version": 3
   },
   "file_extension": ".py",
   "mimetype": "text/x-python",
   "name": "python",
   "nbconvert_exporter": "python",
   "pygments_lexer": "ipython3",
   "version": "3.12.3"
  }
 },
 "nbformat": 4,
 "nbformat_minor": 5
}
