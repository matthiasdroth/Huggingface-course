{
 "cells": [
  {
   "cell_type": "markdown",
   "id": "b70f43fd",
   "metadata": {},
   "source": [
    "# Transformer models\n",
    "\n",
    "## [Introduction](https://huggingface.co/course/chapter1/1?fw=pt)\n",
    "\n",
    "### Welcome to the 🤗 course!\n",
    "This course will teach you about natural language processing (NLP) using libraries from the Hugging Face ecosystem — 🤗 Transformers, 🤗 Datasets, 🤗 Tokenizers, and 🤗 Accelerate — as well as the Hugging Face Hub. It’s completely free and without ads."
   ]
  },
  {
   "cell_type": "code",
   "execution_count": 1,
   "id": "af45116c",
   "metadata": {},
   "outputs": [
    {
     "name": "stderr",
     "output_type": "stream",
     "text": [
      "/home/matthias/Desktop/MachineLearning/Huggingface-course/env/lib/python3.12/site-packages/IPython/core/display.py:475: UserWarning: Consider using IPython.display.IFrame instead\n",
      "  warnings.warn(\"Consider using IPython.display.IFrame instead\")\n"
     ]
    },
    {
     "data": {
      "text/html": [
       "<iframe width=\"640\" height=\"360\" src=\"https://www.youtube.com/embed/00GKzGyWFEs\" allowfullscreen></iframe>"
      ],
      "text/plain": [
       "<IPython.core.display.HTML object>"
      ]
     },
     "execution_count": 1,
     "metadata": {},
     "output_type": "execute_result"
    }
   ],
   "source": [
    "# https://gist.github.com/christopherlovell/e3e70880c0b0ad666e7b5fe311320a62\n",
    "from IPython.display import HTML\n",
    "HTML('<iframe width=\"640\" height=\"360\" src=\"https://www.youtube.com/embed/00GKzGyWFEs\" allowfullscreen></iframe>')"
   ]
  },
  {
   "cell_type": "markdown",
   "id": "a1fe55c0",
   "metadata": {},
   "source": [
    "### What to expect?\n",
    "Here is a brief overview of the course:\n",
    "\n",
    "<img style=\"float=center\" width=\"90%\" src=\"sections/section_1/images/summary.svg\">\n",
    "\n",
    "- Chapters 1 to 4 provide an introduction to the main concepts of the 🤗 Transformers library. By the end of this part of the course, you will be familiar with how Transformer models work and will know how to use a model from the Hugging Face Hub, fine-tune it on a dataset, and share your results on the Hub!\n",
    "- Chapters 5 to 8 teach the basics of 🤗 Datasets and 🤗 Tokenizers before diving into classic NLP tasks. By the end of this part, you will be able to tackle the most common NLP problems by yourself.\n",
    "- Chapters 9 to 12 go beyond NLP, and explore how Transformer models can be used tackle tasks in speech processing and computer vision. Along the way, you'll learn how to build and share demos of your models, and optimize them for production environments. By the end of this part, you will be ready to apply 🤗 Transformers to (almost) any machine learning problem!\n",
    "\n",
    "## [Natural language processing](https://huggingface.co/course/chapter1/2?fw=pt)\n",
    "Before jumping into Transformer models, let's do a quick overview of what natural language processing is and why we care about it.\n",
    "\n",
    "### What is NLP?\n",
    "NLP is a field of linguistics and machine learning focused on understanding everything related to human language. The aim of NLP tasks is not only to understand single words individually, but to be able to understand the context of those words.\n",
    "\n",
    "The following is a list of common NLP tasks, with some examples of each:\n",
    "- Classifying whole sentences: Getting the sentiment of a review, detecting if an email is spam, determining if a sentence is grammatically correct or whether two sentences are logically related or not\n",
    "- Classifying each word in a sentence: Identifying the grammatical components of a sentence (noun, verb, adjective), or the named entities (person, location, organization)\n",
    "- Generating text content: Completing a prompt with auto-generated text, filling in the blanks in a text with masked words\n",
    "- Extracting an answer from a text: Given a question and a context, extracting the answer to the question based on the information provided in the context\n",
    "- Generating a new sentence from an input text: Translating a text into another language, summarizing a text\n",
    "\n",
    "NLP isn't limited to written text though. It also tackles complex challenges in speech recognition and computer vision, such as generating a transcript of an audio sample or a description of an image.\n",
    "\n",
    "### Why is it challenging?\n",
    "Computers don't process information in the same way as humans. For example, when we read the sentence \"I am hungry,\" we can easily understand its meaning. Similarly, given two sentences such as \"I am hungry\" and \"I am sad,\" we're able to easily determine how similar they are. For machine learning (ML) models, such tasks are more difficult. The text needs to be processed in a way that enables the model to learn from it. And because language is complex, we need to think carefully about how this processing must be done. There has been a lot of research done on how to represent text, and we will look at some methods in the next chapter.\n",
    "\n",
    "## [Transformers, what can they do?](https://huggingface.co/course/chapter1/3?fw=pt)\n",
    "In this section, we will look at what Transformer models can do and use our first tool from the 🤗 Transformers library: the `pipeline()` function.\n",
    "\n",
    "### Transformers are everywhere!\n",
    "Transformer models are used to solve all kinds of NLP tasks, like the ones mentioned in the previous section. Here are some of the companies and organizations using Hugging Face and Transformer models, who also contribute back to the community by sharing their models:\n",
    "\n",
    "<img style=\"float=center\" width=\"95%\" src=\"sections/section_1/images/organizations.png\">\n",
    "\n",
    "The 🤗 Transformers library provides the functionality to create and use those shared models. The Model Hub contains thousands of pretrained models that anyone can download and use. You can also upload your own models to the Hub!\n",
    "\n",
    "> ⚠️ The Hugging Face Hub is not limited to Transformer models. Anyone can share any kind of models or datasets they want! [Create a huggingface.co](https://huggingface.co/join) account to benefit from all available features!\n",
    "\n",
    "Before diving into how Transformer models work under the hood, let's look at a few examples of how they can be used to solve some interesting NLP problems.\n",
    "\n",
    "### Working with pipelines"
   ]
  },
  {
   "cell_type": "code",
   "execution_count": 2,
   "id": "569b1a43",
   "metadata": {},
   "outputs": [
    {
     "data": {
      "text/html": [
       "<iframe width=\"640\" height=\"360\" src=\"https://www.youtube.com/embed/tiZFewofSLM\" allowfullscreen></iframe>"
      ],
      "text/plain": [
       "<IPython.core.display.HTML object>"
      ]
     },
     "execution_count": 2,
     "metadata": {},
     "output_type": "execute_result"
    }
   ],
   "source": [
    "HTML('<iframe width=\"640\" height=\"360\" src=\"https://www.youtube.com/embed/tiZFewofSLM\" allowfullscreen></iframe>')"
   ]
  },
  {
   "cell_type": "markdown",
   "id": "1a652916",
   "metadata": {},
   "source": [
    "The most basic object in the 🤗 Transformers library is the `pipeline()` function. It connects a model with its necessary preprocessing and postprocessing steps, allowing us to directly input any text and get an intelligible answer:"
   ]
  },
  {
   "cell_type": "code",
   "execution_count": 3,
   "id": "ad348431",
   "metadata": {},
   "outputs": [
    {
     "name": "stderr",
     "output_type": "stream",
     "text": [
      "/home/matthias/Desktop/MachineLearning/Huggingface-course/env/lib/python3.12/site-packages/tqdm/auto.py:21: TqdmWarning: IProgress not found. Please update jupyter and ipywidgets. See https://ipywidgets.readthedocs.io/en/stable/user_install.html\n",
      "  from .autonotebook import tqdm as notebook_tqdm\n",
      "No model was supplied, defaulted to distilbert/distilbert-base-uncased-finetuned-sst-2-english and revision 714eb0f (https://huggingface.co/distilbert/distilbert-base-uncased-finetuned-sst-2-english).\n",
      "Using a pipeline without specifying a model name and revision in production is not recommended.\n",
      "Device set to use cuda:0\n"
     ]
    },
    {
     "data": {
      "text/plain": [
       "[{'label': 'POSITIVE', 'score': 0.9598046541213989}]"
      ]
     },
     "execution_count": 3,
     "metadata": {},
     "output_type": "execute_result"
    }
   ],
   "source": [
    "from transformers import pipeline\n",
    "classifier = pipeline(\"sentiment-analysis\")\n",
    "classifier(\"I've been waiting for a HuggingFace course my whole life.\")"
   ]
  },
  {
   "cell_type": "markdown",
   "id": "4977b244",
   "metadata": {},
   "source": [
    "We can even pass several sentences!"
   ]
  },
  {
   "cell_type": "code",
   "execution_count": 4,
   "id": "3b745192",
   "metadata": {},
   "outputs": [
    {
     "data": {
      "text/plain": [
       "[{'label': 'POSITIVE', 'score': 0.9598046541213989},\n",
       " {'label': 'NEGATIVE', 'score': 0.9994558691978455}]"
      ]
     },
     "execution_count": 4,
     "metadata": {},
     "output_type": "execute_result"
    }
   ],
   "source": [
    "classifier([\"I've been waiting for a HuggingFace course my whole life.\", \"I hate this so much!\"])"
   ]
  },
  {
   "cell_type": "markdown",
   "id": "7c10d45f",
   "metadata": {},
   "source": [
    "By default, this pipeline selects a particular pretrained model that has been fine-tuned for sentiment analysis in English. The model is downloaded and cached when you create the classifier object. If you rerun the command, the cached model will be used instead and there is no need to download the model again.\n",
    "\n",
    "There are three main steps involved when you pass some text to a pipeline:\n",
    "- The text is preprocessed into a format the model can understand.\n",
    "- The preprocessed inputs are passed to the model.\n",
    "- The predictions of the model are post-processed, so you can make sense of them.\n",
    "\n",
    "Some of the currently available pipelines are:\n",
    "- `feature-extraction` (get the vector representation of a text)\n",
    "- `fill-mask`\n",
    "- `ner` (named entity recognition)\n",
    "- `question-answering`\n",
    "- `sentiment-analysis`\n",
    "- `summarization`\n",
    "- `text-generation`\n",
    "- `translation`\n",
    "- `zero-shot-classification`\n",
    "\n",
    "Let's have a look at a few of these!\n",
    "\n",
    "### Zero-shot classification\n",
    "We'll start by tackling a more challenging task where we need to classify texts that haven't been labelled. This is a common scenario in real-world projects because annotating text is usually time-consuming and requires domain expertise. For this use case, the zero-shot-classification pipeline is very powerful: it allows you to specify which labels to use for the classification, so you don't have to rely on the labels of the pretrained model. You've already seen how the model can classify a sentence as positive or negative using those two labels — but it can also classify the text using any other set of labels you like."
   ]
  },
  {
   "cell_type": "code",
   "execution_count": 5,
   "id": "05ee97d2",
   "metadata": {},
   "outputs": [
    {
     "name": "stderr",
     "output_type": "stream",
     "text": [
      "No model was supplied, defaulted to facebook/bart-large-mnli and revision d7645e1 (https://huggingface.co/facebook/bart-large-mnli).\n",
      "Using a pipeline without specifying a model name and revision in production is not recommended.\n",
      "Device set to use cuda:0\n"
     ]
    },
    {
     "data": {
      "text/plain": [
       "{'sequence': 'This is a course about the Transformers library',\n",
       " 'labels': ['education', 'business', 'politics'],\n",
       " 'scores': [0.8445958495140076, 0.1119765117764473, 0.04342762380838394]}"
      ]
     },
     "execution_count": 5,
     "metadata": {},
     "output_type": "execute_result"
    }
   ],
   "source": [
    "classifier = pipeline(\"zero-shot-classification\")\n",
    "classifier(\n",
    "    \"This is a course about the Transformers library\",\n",
    "    candidate_labels=[\"education\", \"politics\", \"business\"],\n",
    ")"
   ]
  },
  {
   "cell_type": "markdown",
   "id": "a62b6b92",
   "metadata": {},
   "source": [
    "This pipeline is called zero-shot because you don't need to fine-tune the model on your data to use it. It can directly return probability scores for any list of labels you want!\n",
    "> ✏️ Try it out! <font color=\"darkgreen\">Play around with your own sequences and labels and see how the model behaves.</font>"
   ]
  },
  {
   "cell_type": "code",
   "execution_count": 6,
   "id": "fef56e84",
   "metadata": {},
   "outputs": [
    {
     "data": {
      "text/plain": [
       "{'sequence': 'Katz was born in Sweden in 1947 and moved to New York City at the age of 1. Katz was born in 1947 in Sweden and moved to New York at the age of one.',\n",
       " 'labels': ['paraphrase', 'no paraphrase'],\n",
       " 'scores': [0.6360505223274231, 0.3639495074748993]}"
      ]
     },
     "execution_count": 6,
     "metadata": {},
     "output_type": "execute_result"
    }
   ],
   "source": [
    "# Trying it out\n",
    "# https://github.com/google-research-datasets/paws\n",
    "classifier(\n",
    "    \"Katz was born in Sweden in 1947 and moved to New York City at the age of 1. Katz was born in 1947 in Sweden and moved to New York at the age of one.\",\n",
    "    candidate_labels=[\"paraphrase\", \"no paraphrase\"],\n",
    ")"
   ]
  },
  {
   "cell_type": "markdown",
   "id": "ea18e6ef",
   "metadata": {},
   "source": [
    "### Text generation\n",
    "Now let's see how to use a pipeline to generate some text. The main idea here is that you provide a prompt and the model will auto-complete it by generating the remaining text. This is similar to the predictive text feature that is found on many phones. Text generation involves randomness, so it's normal if you don't get the same results as shown below."
   ]
  },
  {
   "cell_type": "code",
   "execution_count": 7,
   "id": "08f327f9",
   "metadata": {},
   "outputs": [
    {
     "name": "stderr",
     "output_type": "stream",
     "text": [
      "No model was supplied, defaulted to openai-community/gpt2 and revision 607a30d (https://huggingface.co/openai-community/gpt2).\n",
      "Using a pipeline without specifying a model name and revision in production is not recommended.\n",
      "Device set to use cuda:0\n",
      "Setting `pad_token_id` to `eos_token_id`:50256 for open-end generation.\n"
     ]
    },
    {
     "data": {
      "text/plain": [
       "{'generated_text': 'In this course, we will teach you how to manipulate and control your computer! We will be exploring the concepts of programming, debugging and building and using debugging tools such as a real computer, a Windows computer, a Mac computer, and more. With'}"
      ]
     },
     "execution_count": 7,
     "metadata": {},
     "output_type": "execute_result"
    }
   ],
   "source": [
    "generator = pipeline(\"text-generation\")\n",
    "generator(\"In this course, we will teach you how to\", num_return_sequences=2)[0]"
   ]
  },
  {
   "cell_type": "markdown",
   "id": "48024745",
   "metadata": {},
   "source": [
    "You can control how many different sequences are generated with the argument `num_return_sequences` and the total length of the output text with the argument `max_length`.\n",
    "> ✏️ Try it out! <font color=\"darkgreen\">Use the `num_return_sequences` and `max_length` arguments to generate two sentences of 15 words each.</font>"
   ]
  },
  {
   "cell_type": "code",
   "execution_count": 8,
   "id": "7af8c8b4",
   "metadata": {},
   "outputs": [
    {
     "name": "stderr",
     "output_type": "stream",
     "text": [
      "Truncation was not explicitly activated but `max_length` is provided a specific value, please use `truncation=True` to explicitly truncate examples to max length. Defaulting to 'longest_first' truncation strategy. If you encode pairs of sequences (GLUE-style) with the tokenizer you can select this strategy more precisely by providing a specific strategy to `truncation`.\n",
      "Setting `pad_token_id` to `eos_token_id`:50256 for open-end generation.\n"
     ]
    },
    {
     "data": {
      "text/plain": [
       "[{'generated_text': 'In this course, we will teach you how to create custom models for other'},\n",
       " {'generated_text': 'In this course, we will teach you how to create, manage and grow'}]"
      ]
     },
     "execution_count": 8,
     "metadata": {},
     "output_type": "execute_result"
    }
   ],
   "source": [
    "# Trying it out\n",
    "generator(\"In this course, we will teach you how to\", num_return_sequences=2, max_length=15)"
   ]
  },
  {
   "cell_type": "markdown",
   "id": "eca8a219",
   "metadata": {},
   "source": [
    "### Using any model from the Hub in a pipeline\n",
    "The previous examples used the default model for the task at hand, but you can also choose a particular model from the Hub to use in a pipeline for a specific task — say, text generation. Go to the [Model Hub](https://huggingface.co/models) and click on the corresponding tag on the left to display only the supported models for that task. You should get to a page like [this one](https://huggingface.co/models?pipeline_tag=text-generation).\n",
    "\n",
    "Let's try the [distilgpt2](https://huggingface.co/distilgpt2) model! Here's how to load it in the same pipeline as before:"
   ]
  },
  {
   "cell_type": "code",
   "execution_count": 9,
   "id": "16efc14a",
   "metadata": {},
   "outputs": [
    {
     "name": "stderr",
     "output_type": "stream",
     "text": [
      "Device set to use cuda:0\n",
      "Truncation was not explicitly activated but `max_length` is provided a specific value, please use `truncation=True` to explicitly truncate examples to max length. Defaulting to 'longest_first' truncation strategy. If you encode pairs of sequences (GLUE-style) with the tokenizer you can select this strategy more precisely by providing a specific strategy to `truncation`.\n",
      "Setting `pad_token_id` to `eos_token_id`:50256 for open-end generation.\n"
     ]
    },
    {
     "data": {
      "text/plain": [
       "[{'generated_text': 'In this course, we will teach you how to set and set our program so that a lot other subjects can take our course before you even begin studying'},\n",
       " {'generated_text': 'In this course, we will teach you how to use the \"Pulse-Key\" technology that will enable you to control your music while wearing headphones'}]"
      ]
     },
     "execution_count": 9,
     "metadata": {},
     "output_type": "execute_result"
    }
   ],
   "source": [
    "generator = pipeline(\"text-generation\", model=\"distilgpt2\")\n",
    "generator(\n",
    "    \"In this course, we will teach you how to\",\n",
    "    max_length=30,\n",
    "    num_return_sequences=2\n",
    ")"
   ]
  },
  {
   "cell_type": "markdown",
   "id": "381c5dd1",
   "metadata": {},
   "source": [
    "You can refine your search for a model by clicking on the language tags, and pick a model that will generate text in another language. The Model Hub even contains checkpoints for multilingual models that support several languages.\n",
    "\n",
    "Once you select a model by clicking on it, you'll see that there is a widget enabling you to try it directly online. This way you can quickly test the model's capabilities before downloading it.\n",
    "> ✏️ Try it out! <font color=\"darkgreen\">Use the filters to find a text generation model for another language. Feel free to play with the widget and use it in a pipeline!</font>"
   ]
  },
  {
   "cell_type": "code",
   "execution_count": 10,
   "id": "ef6bd4c3",
   "metadata": {},
   "outputs": [
    {
     "name": "stderr",
     "output_type": "stream",
     "text": [
      "Device set to use cuda:0\n",
      "Truncation was not explicitly activated but `max_length` is provided a specific value, please use `truncation=True` to explicitly truncate examples to max length. Defaulting to 'longest_first' truncation strategy. If you encode pairs of sequences (GLUE-style) with the tokenizer you can select this strategy more precisely by providing a specific strategy to `truncation`.\n",
      "Setting `pad_token_id` to `eos_token_id`:50256 for open-end generation.\n"
     ]
    },
    {
     "data": {
      "text/plain": [
       "[{'generated_text': 'In diesem Kurs, bringen wir euch bei, wie man die Fähigkeit zum Kämpfen auf andere Weise, z.B. im Umgang mit einem Gewehr, steigert'},\n",
       " {'generated_text': 'In diesem Kurs, bringen wir euch bei, wie man auf einen fremden Planeten gehen will.\\nUnd wie ihr es auf die Sternenbasis machen könnt.'}]"
      ]
     },
     "execution_count": 10,
     "metadata": {},
     "output_type": "execute_result"
    }
   ],
   "source": [
    "# Trying it out\n",
    "# https://huggingface.co/dbmdz/german-gpt2\n",
    "generator = pipeline(\"text-generation\", model=\"dbmdz/german-gpt2\")\n",
    "generator(\n",
    "    \"In diesem Kurs, bringen wir euch bei, wie man\",\n",
    "    max_length=30,\n",
    "    num_return_sequences=2\n",
    ")"
   ]
  },
  {
   "cell_type": "markdown",
   "id": "6fe79415",
   "metadata": {},
   "source": [
    "**The inference API**<br>\n",
    "All the models can be tested directly through your browser using the Inference API, which is available on the Hugging Face [website](https://huggingface.co/). You can play with the model directly on this page by inputting custom text and watching the model process the input data.\n",
    "\n",
    "The Inference API that powers the widget is also available as a paid product, which comes in handy if you need it for your workflows. See the [pricing page](https://huggingface.co/pricing) for more details.\n",
    "\n",
    "### Mask filling\n",
    "The next pipeline you'll try is `fill-mask`. The idea of this task is to fill in the blanks in a given text:"
   ]
  },
  {
   "cell_type": "code",
   "execution_count": 11,
   "id": "8c9b5aaa",
   "metadata": {},
   "outputs": [
    {
     "name": "stderr",
     "output_type": "stream",
     "text": [
      "No model was supplied, defaulted to distilbert/distilroberta-base and revision fb53ab8 (https://huggingface.co/distilbert/distilroberta-base).\n",
      "Using a pipeline without specifying a model name and revision in production is not recommended.\n",
      "Some weights of the model checkpoint at distilbert/distilroberta-base were not used when initializing RobertaForMaskedLM: ['roberta.pooler.dense.bias', 'roberta.pooler.dense.weight']\n",
      "- This IS expected if you are initializing RobertaForMaskedLM from the checkpoint of a model trained on another task or with another architecture (e.g. initializing a BertForSequenceClassification model from a BertForPreTraining model).\n",
      "- This IS NOT expected if you are initializing RobertaForMaskedLM from the checkpoint of a model that you expect to be exactly identical (initializing a BertForSequenceClassification model from a BertForSequenceClassification model).\n",
      "Device set to use cuda:0\n"
     ]
    },
    {
     "data": {
      "text/plain": [
       "[{'score': 0.19198471307754517,\n",
       "  'token': 30412,\n",
       "  'token_str': ' mathematical',\n",
       "  'sequence': 'This course will teach you all about mathematical models.'},\n",
       " {'score': 0.042092159390449524,\n",
       "  'token': 38163,\n",
       "  'token_str': ' computational',\n",
       "  'sequence': 'This course will teach you all about computational models.'}]"
      ]
     },
     "execution_count": 11,
     "metadata": {},
     "output_type": "execute_result"
    }
   ],
   "source": [
    "unmasker = pipeline(\"fill-mask\")\n",
    "unmasker(\"This course will teach you all about <mask> models.\", top_k=2)"
   ]
  },
  {
   "cell_type": "markdown",
   "id": "d205ceaf",
   "metadata": {},
   "source": [
    "The `top_k` argument controls how many possibilities you want to be displayed. Note that here the model fills in the special `<mask>` word, which is often referred to as a *mask token*. Other mask-filling models might have different mask tokens, so it's always good to verify the proper mask word when exploring other models. One way to check it is by looking at the mask word used in the widget.\n",
    "> ✏️ Try it out! <font color=\"darkgreen\">Search for the `bert-base-cased` model on the Hub and identify its mask word in the Inference API widget. What does this model predict for the sentence in our `pipeline` example above?</font>"
   ]
  },
  {
   "cell_type": "code",
   "execution_count": 12,
   "id": "6acf40f7",
   "metadata": {},
   "outputs": [
    {
     "name": "stderr",
     "output_type": "stream",
     "text": [
      "BertForMaskedLM has generative capabilities, as `prepare_inputs_for_generation` is explicitly overwritten. However, it doesn't directly inherit from `GenerationMixin`. From 👉v4.50👈 onwards, `PreTrainedModel` will NOT inherit from `GenerationMixin`, and this model will lose the ability to call `generate` and other related functions.\n",
      "  - If you're using `trust_remote_code=True`, you can get rid of this warning by loading the model with an auto class. See https://huggingface.co/docs/transformers/en/model_doc/auto#auto-classes\n",
      "  - If you are the owner of the model architecture code, please modify your model class such that it inherits from `GenerationMixin` (after `PreTrainedModel`, otherwise you'll get an exception).\n",
      "  - If you are not the owner of the model architecture class, please contact the model code owner to update it.\n",
      "Some weights of the model checkpoint at bert-base-cased were not used when initializing BertForMaskedLM: ['bert.pooler.dense.bias', 'bert.pooler.dense.weight', 'cls.seq_relationship.bias', 'cls.seq_relationship.weight']\n",
      "- This IS expected if you are initializing BertForMaskedLM from the checkpoint of a model trained on another task or with another architecture (e.g. initializing a BertForSequenceClassification model from a BertForPreTraining model).\n",
      "- This IS NOT expected if you are initializing BertForMaskedLM from the checkpoint of a model that you expect to be exactly identical (initializing a BertForSequenceClassification model from a BertForSequenceClassification model).\n",
      "Device set to use cuda:0\n"
     ]
    },
    {
     "data": {
      "text/plain": [
       "[{'score': 0.259630411863327,\n",
       "  'token': 1648,\n",
       "  'token_str': 'role',\n",
       "  'sequence': 'This course will teach you all about role models.'},\n",
       " {'score': 0.09427263587713242,\n",
       "  'token': 1103,\n",
       "  'token_str': 'the',\n",
       "  'sequence': 'This course will teach you all about the models.'}]"
      ]
     },
     "execution_count": 12,
     "metadata": {},
     "output_type": "execute_result"
    }
   ],
   "source": [
    "# Trying it out\n",
    "# https://huggingface.co/bert-base-cased => \"[MASK]\" is the mask word for bert-base-cased\n",
    "unmasker = pipeline(\"fill-mask\", model=\"bert-base-cased\")\n",
    "unmasker(\"This course will teach you all about [MASK] models.\", top_k=2)"
   ]
  },
  {
   "cell_type": "markdown",
   "id": "4759cff2",
   "metadata": {},
   "source": [
    "### Named entity recognition\n",
    "Named entity recognition (NER) is a task where the model has to find which parts of the input text correspond to entities such as persons, locations, or organizations. Let's look at an example:"
   ]
  },
  {
   "cell_type": "code",
   "execution_count": 13,
   "id": "addb4cab",
   "metadata": {},
   "outputs": [
    {
     "name": "stderr",
     "output_type": "stream",
     "text": [
      "No model was supplied, defaulted to dbmdz/bert-large-cased-finetuned-conll03-english and revision 4c53496 (https://huggingface.co/dbmdz/bert-large-cased-finetuned-conll03-english).\n",
      "Using a pipeline without specifying a model name and revision in production is not recommended.\n",
      "Some weights of the model checkpoint at dbmdz/bert-large-cased-finetuned-conll03-english were not used when initializing BertForTokenClassification: ['bert.pooler.dense.bias', 'bert.pooler.dense.weight']\n",
      "- This IS expected if you are initializing BertForTokenClassification from the checkpoint of a model trained on another task or with another architecture (e.g. initializing a BertForSequenceClassification model from a BertForPreTraining model).\n",
      "- This IS NOT expected if you are initializing BertForTokenClassification from the checkpoint of a model that you expect to be exactly identical (initializing a BertForSequenceClassification model from a BertForSequenceClassification model).\n",
      "Device set to use cuda:0\n",
      "/home/matthias/Desktop/MachineLearning/Huggingface-course/env/lib/python3.12/site-packages/transformers/pipelines/token_classification.py:170: UserWarning: `grouped_entities` is deprecated and will be removed in version v5.0.0, defaulted to `aggregation_strategy=\"AggregationStrategy.SIMPLE\"` instead.\n",
      "  warnings.warn(\n"
     ]
    },
    {
     "data": {
      "text/plain": [
       "[{'entity_group': 'PER',\n",
       "  'score': np.float32(0.9981694),\n",
       "  'word': 'Sylvain',\n",
       "  'start': 11,\n",
       "  'end': 18},\n",
       " {'entity_group': 'ORG',\n",
       "  'score': np.float32(0.9796019),\n",
       "  'word': 'Hugging Face',\n",
       "  'start': 33,\n",
       "  'end': 45},\n",
       " {'entity_group': 'LOC',\n",
       "  'score': np.float32(0.9932105),\n",
       "  'word': 'Brooklyn',\n",
       "  'start': 49,\n",
       "  'end': 57}]"
      ]
     },
     "execution_count": 13,
     "metadata": {},
     "output_type": "execute_result"
    }
   ],
   "source": [
    "ner = pipeline(\"ner\", grouped_entities=True)\n",
    "ner(\"My name is Sylvain and I work at Hugging Face in Brooklyn.\")"
   ]
  },
  {
   "cell_type": "markdown",
   "id": "d997ba82",
   "metadata": {},
   "source": [
    "Here the model correctly identified that Sylvain is a person (PER), Hugging Face an organization (ORG), and Brooklyn a location (LOC).\n",
    "\n",
    "We pass the option `grouped_entities=True` in the pipeline creation function to tell the pipeline to regroup together the parts of the sentence that correspond to the same entity: here the model correctly grouped “Hugging” and “Face” as a single organization, even though the name consists of multiple words. In fact, as we will see in the next chapter, the preprocessing even splits some words into smaller parts. For instance, `Sylvain` is split into four pieces: `S`, `##yl`, `##va`, and `##in`. In the post-processing step, the pipeline successfully regrouped those pieces.\n",
    "> ✏️ Try it out! <font color=\"darkgreen\">Search the Model Hub for a model able to do part-of-speech tagging (usually abbreviated as POS) in English. What does this model predict for the sentence in the example above?</font>"
   ]
  },
  {
   "cell_type": "code",
   "execution_count": 14,
   "id": "a1ba2e7e",
   "metadata": {},
   "outputs": [
    {
     "name": "stderr",
     "output_type": "stream",
     "text": [
      "Some weights of the model checkpoint at vblagoje/bert-english-uncased-finetuned-pos were not used when initializing BertForTokenClassification: ['bert.pooler.dense.bias', 'bert.pooler.dense.weight']\n",
      "- This IS expected if you are initializing BertForTokenClassification from the checkpoint of a model trained on another task or with another architecture (e.g. initializing a BertForSequenceClassification model from a BertForPreTraining model).\n",
      "- This IS NOT expected if you are initializing BertForTokenClassification from the checkpoint of a model that you expect to be exactly identical (initializing a BertForSequenceClassification model from a BertForSequenceClassification model).\n",
      "Device set to use cuda:0\n"
     ]
    },
    {
     "data": {
      "text/plain": [
       "[{'entity_group': 'PRON',\n",
       "  'score': np.float32(0.9994592),\n",
       "  'word': 'my',\n",
       "  'start': 0,\n",
       "  'end': 2},\n",
       " {'entity_group': 'NOUN',\n",
       "  'score': np.float32(0.99601364),\n",
       "  'word': 'name',\n",
       "  'start': 3,\n",
       "  'end': 7},\n",
       " {'entity_group': 'AUX',\n",
       "  'score': np.float32(0.9953696),\n",
       "  'word': 'is',\n",
       "  'start': 8,\n",
       "  'end': 10},\n",
       " {'entity_group': 'PROPN',\n",
       "  'score': np.float32(0.9981525),\n",
       "  'word': 'sylvain',\n",
       "  'start': 11,\n",
       "  'end': 18},\n",
       " {'entity_group': 'CCONJ',\n",
       "  'score': np.float32(0.99918765),\n",
       "  'word': 'and',\n",
       "  'start': 19,\n",
       "  'end': 22},\n",
       " {'entity_group': 'PRON',\n",
       "  'score': np.float32(0.9994679),\n",
       "  'word': 'i',\n",
       "  'start': 23,\n",
       "  'end': 24},\n",
       " {'entity_group': 'VERB',\n",
       "  'score': np.float32(0.99923587),\n",
       "  'word': 'work',\n",
       "  'start': 25,\n",
       "  'end': 29},\n",
       " {'entity_group': 'ADP',\n",
       "  'score': np.float32(0.90630984),\n",
       "  'word': 'at',\n",
       "  'start': 30,\n",
       "  'end': 32},\n",
       " {'entity_group': 'PROPN',\n",
       "  'score': np.float32(0.719051),\n",
       "  'word': 'hugging face',\n",
       "  'start': 33,\n",
       "  'end': 45},\n",
       " {'entity_group': 'ADP',\n",
       "  'score': np.float32(0.9993789),\n",
       "  'word': 'in',\n",
       "  'start': 46,\n",
       "  'end': 48},\n",
       " {'entity_group': 'PROPN',\n",
       "  'score': np.float32(0.9989513),\n",
       "  'word': 'brooklyn',\n",
       "  'start': 49,\n",
       "  'end': 57},\n",
       " {'entity_group': 'PUNCT',\n",
       "  'score': np.float32(0.99963903),\n",
       "  'word': '.',\n",
       "  'start': 57,\n",
       "  'end': 58}]"
      ]
     },
     "execution_count": 14,
     "metadata": {},
     "output_type": "execute_result"
    }
   ],
   "source": [
    "# Trying it out\n",
    "# https://huggingface.co/vblagoje/bert-english-uncased-finetuned-pos\n",
    "vblagoje_ner = pipeline(\"ner\", grouped_entities=True, model=\"vblagoje/bert-english-uncased-finetuned-pos\")\n",
    "vblagoje_ner(\"My name is Sylvain and I work at Hugging Face in Brooklyn.\")"
   ]
  },
  {
   "cell_type": "markdown",
   "id": "27f2aaad",
   "metadata": {},
   "source": [
    "### Question answering\n",
    "The `question-answering` pipeline answers questions using information from a given context:"
   ]
  },
  {
   "cell_type": "code",
   "execution_count": 15,
   "id": "2a21a1e6",
   "metadata": {},
   "outputs": [
    {
     "name": "stderr",
     "output_type": "stream",
     "text": [
      "No model was supplied, defaulted to distilbert/distilbert-base-cased-distilled-squad and revision 564e9b5 (https://huggingface.co/distilbert/distilbert-base-cased-distilled-squad).\n",
      "Using a pipeline without specifying a model name and revision in production is not recommended.\n",
      "Device set to use cuda:0\n"
     ]
    },
    {
     "data": {
      "text/plain": [
       "{'score': 0.6949766278266907, 'start': 33, 'end': 45, 'answer': 'Hugging Face'}"
      ]
     },
     "execution_count": 15,
     "metadata": {},
     "output_type": "execute_result"
    }
   ],
   "source": [
    "question_answerer = pipeline(\"question-answering\")\n",
    "question_answerer(\n",
    "    question=\"Where do I work?\",\n",
    "    context=\"My name is Sylvain and I work at Hugging Face in Brooklyn\",\n",
    ")"
   ]
  },
  {
   "cell_type": "markdown",
   "id": "ec0bc8d4",
   "metadata": {},
   "source": [
    "Note that this pipeline works by extracting information from the provided context; it does not generate the answer.\n",
    "\n",
    "### Summarization\n",
    "Summarization is the task of reducing a text into a shorter text while keeping all (or most) of the important aspects referenced in the text. Here's an example:"
   ]
  },
  {
   "cell_type": "code",
   "execution_count": 16,
   "id": "37908368",
   "metadata": {},
   "outputs": [
    {
     "name": "stderr",
     "output_type": "stream",
     "text": [
      "No model was supplied, defaulted to sshleifer/distilbart-cnn-12-6 and revision a4f8f3e (https://huggingface.co/sshleifer/distilbart-cnn-12-6).\n",
      "Using a pipeline without specifying a model name and revision in production is not recommended.\n",
      "Device set to use cuda:0\n"
     ]
    },
    {
     "data": {
      "text/plain": [
       "[{'summary_text': ' America has changed dramatically during recent years . The number of engineering graduates in the U.S. has declined in traditional engineering disciplines such as mechanical, civil, electrical, chemical, and aeronautical engineering . Rapidly developing economies such as China and India, as well as other industrial countries in Europe and Asia, continue to encourage and advance engineering .'}]"
      ]
     },
     "execution_count": 16,
     "metadata": {},
     "output_type": "execute_result"
    }
   ],
   "source": [
    "summarizer = pipeline(\"summarization\")\n",
    "summarizer(\n",
    "    \"\"\"\n",
    "    America has changed dramatically during recent years. Not only has the number of \n",
    "    graduates in traditional engineering disciplines such as mechanical, civil, \n",
    "    electrical, chemical, and aeronautical engineering declined, but in most of \n",
    "    the premier American universities engineering curricula now concentrate on \n",
    "    and encourage largely the study of engineering science. As a result, there \n",
    "    are declining offerings in engineering subjects dealing with infrastructure, \n",
    "    the environment, and related issues, and greater concentration on high \n",
    "    technology subjects, largely supporting increasingly complex scientific \n",
    "    developments. While the latter is important, it should not be at the expense \n",
    "    of more traditional engineering.\n",
    "\n",
    "    Rapidly developing economies such as China and India, as well as other \n",
    "    industrial countries in Europe and Asia, continue to encourage and advance \n",
    "    the teaching of engineering. Both China and India, respectively, graduate \n",
    "    six and eight times as many traditional engineers as does the United States. \n",
    "    Other industrial countries at minimum maintain their output, while America \n",
    "    suffers an increasingly serious decline in the number of engineering graduates \n",
    "    and a lack of well-educated engineers.\n",
    "    \"\"\"\n",
    ")"
   ]
  },
  {
   "cell_type": "markdown",
   "id": "f091d254",
   "metadata": {},
   "source": [
    "Like with text generation, you can specify a `max_length` or a `min_length` for the result.\n",
    "\n",
    "### Translation\n",
    "For translation, you can use a default model if you provide a language pair in the task name (such as `\"translation_en_to_fr\"`), but the easiest way is to pick the model you want to use on the [Model Hub](https://huggingface.co/models). Here we'll try translating from French to English:"
   ]
  },
  {
   "cell_type": "code",
   "execution_count": 17,
   "id": "862f089b",
   "metadata": {},
   "outputs": [
    {
     "name": "stderr",
     "output_type": "stream",
     "text": [
      "/home/matthias/Desktop/MachineLearning/Huggingface-course/env/lib/python3.12/site-packages/transformers/models/marian/tokenization_marian.py:175: UserWarning: Recommended: pip install sacremoses.\n",
      "  warnings.warn(\"Recommended: pip install sacremoses.\")\n",
      "Device set to use cuda:0\n"
     ]
    },
    {
     "data": {
      "text/plain": [
       "[{'translation_text': 'This course is produced by Hugging Face.'}]"
      ]
     },
     "execution_count": 17,
     "metadata": {},
     "output_type": "execute_result"
    }
   ],
   "source": [
    "translator = pipeline(\"translation\", model=\"Helsinki-NLP/opus-mt-fr-en\")\n",
    "translator(\"Ce cours est produit par Hugging Face.\")"
   ]
  },
  {
   "cell_type": "markdown",
   "id": "9a390b0f",
   "metadata": {},
   "source": [
    "Like with text generation and summarization, you can specify a `max_length` or a `min_length` for the result.\n",
    "> ✏️ Try it out! <font color=\"darkgreen\">Search for translation models in other languages and try to translate the previous sentence into a few different languages.</font>"
   ]
  },
  {
   "cell_type": "code",
   "execution_count": 18,
   "id": "093e8e31",
   "metadata": {},
   "outputs": [
    {
     "name": "stderr",
     "output_type": "stream",
     "text": [
      "Device set to use cuda:0\n"
     ]
    },
    {
     "name": "stdout",
     "output_type": "stream",
     "text": [
      "[{'translation_text': 'Regeln für das natürliche Sprachenverständnis!'}]\n"
     ]
    },
    {
     "name": "stderr",
     "output_type": "stream",
     "text": [
      "Device set to use cuda:0\n"
     ]
    },
    {
     "name": "stdout",
     "output_type": "stream",
     "text": [
      "[{'translation_text': 'Règles de compréhension du langage naturel !'}]\n"
     ]
    }
   ],
   "source": [
    "# Trying it out\n",
    "# https://huggingface.co/Tanhim/translation-En2De\n",
    "translatorDE = pipeline(\"translation\", model=\"Tanhim/translation-En2De\")\n",
    "print(translatorDE(\"Natural language understanding rules!\"))\n",
    "# https://huggingface.co/Helsinki-NLP/opus-mt-en-fr\n",
    "translatorFR = pipeline(\"translation\", model=\"Helsinki-NLP/opus-mt-en-fr\")\n",
    "print(translatorFR(\"Natural language understanding rules!\"))"
   ]
  },
  {
   "cell_type": "markdown",
   "id": "056481bd",
   "metadata": {},
   "source": [
    "The pipelines shown so far are mostly for demonstrative purposes. They were programmed for specific tasks and cannot perform variations of them. In the next chapter, you'll learn what's inside a `pipeline()` function and how to customize its behavior.\n",
    "\n",
    "## [How do Transformers work?](https://huggingface.co/course/chapter1/4?fw=pt)\n",
    "In this section, we will take a high-level look at the architecture of Transformer models.\n",
    "\n",
    "### A bit of Transformer history\n",
    "Here are some reference points in the (short) history of Transformer models:\n",
    "<img style=\"float=center\" width=\"80%\" src=\"sections/section_1/images/transformers_chrono.svg\">\n",
    "The [Transformer architecture](https://arxiv.org/abs/1706.03762) was introduced in June 2017. The focus of the original research was on translation tasks. This was followed by the introduction of several influential models, including:\n",
    "- **June 2018**: [GPT](https://cdn.openai.com/research-covers/language-unsupervised/language_understanding_paper.pdf), the first pretrained Transformer model, used for fine-tuning on various NLP tasks and obtained state-of-the-art results\n",
    "- **October 2018**: [BERT](https://arxiv.org/abs/1810.04805), another large pretrained model, this one designed to produce better summaries of sentences (more on this in the next chapter!)\n",
    "- **February 2019**: [GPT-2](https://cdn.openai.com/better-language-models/language_models_are_unsupervised_multitask_learners.pdf), an improved (and bigger) version of GPT that was not immediately publicly released due to ethical concerns\n",
    "- **October 2019**: [DistilBERT](https://arxiv.org/abs/1910.01108), a distilled version of BERT that is 60% faster, 40% lighter in memory, and still retains 97% of BERT's performance\n",
    "- **October 2019**: [BART](https://arxiv.org/abs/1910.13461) and [T5](https://arxiv.org/abs/1910.10683), two large pretrained models using the same architecture as the original Transformer model (the first to do so)\n",
    "- **May 2020**, [GPT-3](https://arxiv.org/abs/2005.14165), an even bigger version of GPT-2 that is able to perform well on a variety of tasks without the need for fine-tuning (called *zero-shot learning*)\n",
    "\n",
    "This list is far from comprehensive, and is just meant to highlight a few of the different kinds of Transformer models. Broadly, they can be grouped into three categories:\n",
    "- GPT-like (also called *auto-regressive* Transformer models)\n",
    "- BERT-like (also called *auto-encoding* Transformer models)\n",
    "- BART/T5-like (also called *sequence-to-sequence* Transformer models)\n",
    "\n",
    "We will dive into these families in more depth later on.\n",
    "\n",
    "### Transformers are language models\n",
    "All the Transformer models mentioned above (GPT, BERT, BART, T5, etc.) have been trained as *language models*. This means they have been trained on large amounts of raw text in a self-supervised fashion. Self-supervised learning is a type of training in which the objective is automatically computed from the inputs of the model. That means that humans are not needed to label the data!\n",
    "\n",
    "This type of model develops a statistical understanding of the language it has been trained on, but it's not very useful for specific practical tasks. Because of this, the general pretrained model then goes through a process called *transfer learning*. During this process, the model is fine-tuned in a supervised way — that is, using human-annotated labels — on a given task.\n",
    "\n",
    "An example of a task is predicting the next word in a sentence having read the *n* previous words. This is called *causal language modeling* because the output depends on the past and present inputs, but not the future ones.\n",
    "<img style=\"float=center\" width=\"80%\" src=\"sections/section_1/images/causal_modeling.svg\">\n",
    "Another example is *masked language modeling*, in which the model predicts a masked word in the sentence.\n",
    "<img style=\"float=center\" width=\"70%\" src=\"sections/section_1/images/masked_modeling.svg\">\n",
    "### Transformers are big models\n",
    "Apart from a few outliers (like DistilBERT), the general strategy to achieve better performance is by increasing the models' sizes as well as the amount of data they are pretrained on.\n",
    "<img style=\"float=center\" width=\"70%\" src=\"sections/section_1/images/big_models.png\">\n",
    "Unfortunately, training a model, especially a large one, requires a large amount of data. This becomes very costly in terms of time and compute resources. It even translates to environmental impact, as can be seen in the following graph.\n",
    "<img style=\"float=center\" width=\"100%\" src=\"sections/section_1/images/carbon_footprint.svg\">"
   ]
  },
  {
   "cell_type": "code",
   "execution_count": 19,
   "id": "c3c5f3f2",
   "metadata": {},
   "outputs": [
    {
     "name": "stderr",
     "output_type": "stream",
     "text": [
      "/home/matthias/Desktop/MachineLearning/Huggingface-course/env/lib/python3.12/site-packages/IPython/core/display.py:475: UserWarning: Consider using IPython.display.IFrame instead\n",
      "  warnings.warn(\"Consider using IPython.display.IFrame instead\")\n"
     ]
    },
    {
     "data": {
      "text/html": [
       "<iframe width=\"640\" height=\"360\" src=\"https://www.youtube.com/embed/ftWlj4FBHTg\" allowfullscreen></iframe>"
      ],
      "text/plain": [
       "<IPython.core.display.HTML object>"
      ]
     },
     "execution_count": 19,
     "metadata": {},
     "output_type": "execute_result"
    }
   ],
   "source": [
    "HTML('<iframe width=\"640\" height=\"360\" src=\"https://www.youtube.com/embed/ftWlj4FBHTg\" allowfullscreen></iframe>')"
   ]
  },
  {
   "cell_type": "markdown",
   "id": "12724b06",
   "metadata": {},
   "source": [
    "And this is showing a project for a (very big) model led by a team consciously trying to reduce the environmental impact of pretraining. The footprint of running lots of trials to get the best hyperparameters would be even higher.\n",
    "\n",
    "Imagine if each time a research team, a student organization, or a company wanted to train a model, it did so from scratch. This would lead to huge, unnecessary global costs!\n",
    "\n",
    "This is why sharing language models is paramount: sharing the trained weights and building on top of already trained weights reduces the overall compute cost and carbon footprint of the community.\n",
    "\n",
    "### Transfer Learning"
   ]
  },
  {
   "cell_type": "code",
   "execution_count": 20,
   "id": "f4ec7663",
   "metadata": {},
   "outputs": [
    {
     "data": {
      "text/html": [
       "<iframe width=\"640\" height=\"360\" src=\"https://www.youtube.com/embed/BqqfQnyjmgg\" allowfullscreen></iframe>"
      ],
      "text/plain": [
       "<IPython.core.display.HTML object>"
      ]
     },
     "execution_count": 20,
     "metadata": {},
     "output_type": "execute_result"
    }
   ],
   "source": [
    "HTML('<iframe width=\"640\" height=\"360\" src=\"https://www.youtube.com/embed/BqqfQnyjmgg\" allowfullscreen></iframe>')"
   ]
  },
  {
   "cell_type": "markdown",
   "id": "76a18604",
   "metadata": {},
   "source": [
    "*Pretraining* is the act of training a model from scratch: the weights are randomly initialized, and the training starts without any prior knowledge.\n",
    "<img style=\"float=center\" width=\"80%\" src=\"sections/section_1/images/pretraining.svg\">\n",
    "\n",
    "This pretraining is usually done on very large amounts of data. Therefore, it requires a very large corpus of data, and training can take up to several weeks.\n",
    "\n",
    "*Fine-tuning*, on the other hand, is the training done **after** a model has been pretrained. To perform fine-tuning, you first acquire a pretrained language model, then perform additional training with a dataset specific to your task. Wait — why not simply train directly for the final task? There are a couple of reasons:\n",
    "- The pretrained model was already trained on a dataset that has some similarities with the fine-tuning dataset. The fine-tuning process is thus able to take advantage of knowledge acquired by the initial model during pretraining (for instance, with NLP problems, the pretrained model will have some kind of statistical understanding of the language you are using for your task).\n",
    "- Since the pretrained model was already trained on lots of data, the fine-tuning requires way less data to get decent results.\n",
    "- For the same reason, the amount of time and resources needed to get good results are much lower.\n",
    "\n",
    "For example, one could leverage a pretrained model trained on the English language and then fine-tune it on an arXiv corpus, resulting in a science/research-based model. The fine-tuning will only require a limited amount of data: the knowledge the pretrained model has acquired is \"transferred\", hence the term *transfer learning*.\n",
    "\n",
    "<img style=\"float=center\" width=\"80%\" src=\"sections/section_1/images/finetuning.svg\">\n",
    "\n",
    "Fine-tuning a model therefore has lower time, data, financial, and environmental costs. It is also quicker and easier to iterate over different fine-tuning schemes, as the training is less constraining than a full pretraining.\n",
    "\n",
    "This process will also achieve better results than training from scratch (unless you have lots of data), which is why you should always try to leverage a pretrained model — one as close as possible to the task you have at hand — and fine-tune it.\n",
    "\n",
    "### General architecture\n",
    "In this section, we'll go over the general architecture of the Transformer model. Don't worry if you don't understand some of the concepts; there are detailed sections later covering each of the components."
   ]
  },
  {
   "cell_type": "code",
   "execution_count": 21,
   "id": "9a313dc2",
   "metadata": {},
   "outputs": [
    {
     "data": {
      "text/html": [
       "<iframe width=\"640\" height=\"360\" src=\"https://www.youtube.com/embed/H39Z_720T5s\" allowfullscreen></iframe>"
      ],
      "text/plain": [
       "<IPython.core.display.HTML object>"
      ]
     },
     "execution_count": 21,
     "metadata": {},
     "output_type": "execute_result"
    }
   ],
   "source": [
    "HTML('<iframe width=\"640\" height=\"360\" src=\"https://www.youtube.com/embed/H39Z_720T5s\" allowfullscreen></iframe>')"
   ]
  },
  {
   "cell_type": "markdown",
   "id": "9c129daa",
   "metadata": {},
   "source": [
    "## Introduction\n",
    "The model is primarily composed of two blocks:\n",
    "- **Encoder (left)**: The encoder receives an input and builds a representation of it (its features). This means that the model is optimized to acquire understanding from the input.\n",
    "- **Decoder (right)**: The decoder uses the encoder's representation (features) along with other inputs to generate a target sequence. This means that the model is optimized for generating outputs.\n",
    "<img style=\"float=center\" width=\"80%\" src=\"sections/section_1/images/transformers_blocks.svg\">\n",
    "Each of these parts can be used independently, depending on the task:\n",
    "- **Encoder-only models**: Good for tasks that require understanding of the input, such as sentence classification and named entity recognition.\n",
    "- **Decoder-only models**: Good for generative tasks such as text generation.\n",
    "- **Encoder-decoder models** or **sequence-to-sequence models**: Good for generative tasks that require an input, such as translation or summarization.\n",
    "We will dive into those architectures independently in later sections.\n",
    "\n",
    "### Attention layers\n",
    "A key feature of Transformer models is that they are built with special layers called *attention layers*. In fact, the title of the paper introducing the Transformer architecture was [“Attention Is All You Need”](https://arxiv.org/abs/1706.03762)! We will explore the details of attention layers later in the course; for now, all you need to know is that this layer will tell the model to pay specific attention to certain words in the sentence you passed it (and more or less ignore the others) when dealing with the representation of each word.\n",
    "\n",
    "To put this into context, consider the task of translating text from English to French. Given the input \"You like this course\", a translation model will need to also attend to the adjacent word “You” to get the proper translation for the word \"like\", because in French the verb \"like\" is conjugated differently depending on the subject. The rest of the sentence, however, is not useful for the translation of that word. In the same vein, when translating \"this\" the model will also need to pay attention to the word \"course\", because \"this\" translates differently depending on whether the associated noun is masculine or feminine. Again, the other words in the sentence will not matter for the translation of \"this\". With more complex sentences (and more complex grammar rules), the model would need to pay special attention to words that might appear farther away in the sentence to properly translate each word.\n",
    "\n",
    "The same concept applies to any task associated with natural language: a word by itself has a meaning, but that meaning is deeply affected by the context, which can be any other word (or words) before or after the word being studied.\n",
    "\n",
    "Now that you have an idea of what attention layers are all about, let's take a closer look at the Transformer architecture.\n",
    "\n",
    "### The original architecture\n",
    "The Transformer architecture was originally designed for translation. During training, the encoder receives inputs (sentences) in a certain language, while the decoder receives the same sentences in the desired target language. In the encoder, the attention layers can use all the words in a sentence (since, as we just saw, the translation of a given word can be dependent on what is after as well as before it in the sentence). The decoder, however, works sequentially and can only pay attention to the words in the sentence that it has already translated (so, only the words before the word currently being generated). For example, when we have predicted the first three words of the translated target, we give them to the decoder which then uses all the inputs of the encoder to try to predict the fourth word.\n",
    "\n",
    "To speed things up during training (when the model has access to target sentences), the decoder is fed the whole target, but it is not allowed to use future words (if it had access to the word at position 2 when trying to predict the word at position 2, the problem would not be very hard!). For instance, when trying to predict the fourth word, the attention layer will only have access to the words in positions 1 to 3.\n",
    "\n",
    "The original Transformer architecture looked like this, with the encoder on the left and the decoder on the right:\n",
    "<img style=\"float=center;\" src=\"sections/section_1/images/transformers.svg\">\n",
    "Note that the the first attention layer in a decoder block pays attention to all (past) inputs to the decoder, but the second attention layer uses the output of the encoder. It can thus access the whole input sentence to best predict the current word. This is very useful as different languages can have grammatical rules that put the words in different orders, or some context provided later in the sentence may be helpful to determine the best translation of a given word.\n",
    "\n",
    "The *attention mask* can also be used in the encoder/decoder to prevent the model from paying attention to some special words — for instance, the special padding word used to make all the inputs the same length when batching together sentences.\n",
    "\n",
    "### Architectures vs. checkpoints\n",
    "As we dive into Transformer models in this course, you'll see mentions of *architectures* and *checkpoints* as well as *models*. These terms all have slightly different meanings:\n",
    "- **Architecture**: This is the skeleton of the model — the definition of each layer and each operation that happens within the model.\n",
    "- **Checkpoints**: These are the weights that will be loaded in a given architecture.\n",
    "- **Model**: This is an umbrella term that isn't as precise as \"architecture\" or \"checkpoint\": it can mean both. This course will specify *architecture* or *checkpoint* when it matters to reduce ambiguity.\n",
    "\n",
    "For example, BERT is an architecture while `bert-base-cased`, a set of weights trained by the Google team for the first release of BERT, is a checkpoint. However, one can say \"the BERT model\" and \"the `bert-base-cased` model.\"\n",
    "\n",
    "## [Encoder models](https://huggingface.co/course/chapter1/5?fw=pt)"
   ]
  },
  {
   "cell_type": "code",
   "execution_count": 22,
   "id": "14cae1ad",
   "metadata": {},
   "outputs": [
    {
     "data": {
      "text/html": [
       "<iframe width=\"640\" height=\"360\" src=\"https://www.youtube.com/embed/MUqNwgPjJvQ\" allowfullscreen></iframe>"
      ],
      "text/plain": [
       "<IPython.core.display.HTML object>"
      ]
     },
     "execution_count": 22,
     "metadata": {},
     "output_type": "execute_result"
    }
   ],
   "source": [
    "HTML('<iframe width=\"640\" height=\"360\" src=\"https://www.youtube.com/embed/MUqNwgPjJvQ\" allowfullscreen></iframe>')"
   ]
  },
  {
   "cell_type": "markdown",
   "id": "ae4fbe47",
   "metadata": {},
   "source": [
    "Encoder models use only the encoder of a Transformer model. At each stage, the attention layers can access all the words in the initial sentence. These models are often characterized as having \"bi-directional\" attention, and are often called *auto-encoding models*.\n",
    "\n",
    "The pretraining of these models usually revolves around somehow corrupting a given sentence (for instance, by masking random words in it) and tasking the model with finding or reconstructing the initial sentence.\n",
    "\n",
    "Encoder models are best suited for tasks requiring an understanding of the full sentence, such as sentence classification, named entity recognition (and more generally word classification), and extractive question answering.\n",
    "\n",
    "Representatives of this family of models include:\n",
    "- [ALBERT](https://huggingface.co/transformers/model_doc/albert.html)\n",
    "- [BERT](https://huggingface.co/transformers/model_doc/bert.html)\n",
    "- [DistilBERT](https://huggingface.co/transformers/model_doc/distilbert.html)\n",
    "- [ELECTRA](https://huggingface.co/transformers/model_doc/electra.html)\n",
    "- [RoBERTa](https://huggingface.co/transformers/model_doc/roberta.html)\n",
    "\n",
    "## [Decoder models](https://huggingface.co/course/chapter1/6?fw=pt)"
   ]
  },
  {
   "cell_type": "code",
   "execution_count": 23,
   "id": "2055c6ac",
   "metadata": {},
   "outputs": [
    {
     "data": {
      "text/html": [
       "<iframe width=\"640\" height=\"360\" src=\"https://www.youtube.com/embed/d_ixlCubqQw\" allowfullscreen></iframe>"
      ],
      "text/plain": [
       "<IPython.core.display.HTML object>"
      ]
     },
     "execution_count": 23,
     "metadata": {},
     "output_type": "execute_result"
    }
   ],
   "source": [
    "HTML('<iframe width=\"640\" height=\"360\" src=\"https://www.youtube.com/embed/d_ixlCubqQw\" allowfullscreen></iframe>')"
   ]
  },
  {
   "cell_type": "markdown",
   "id": "ee404bf7",
   "metadata": {},
   "source": [
    "Decoder models use only the decoder of a Transformer model. At each stage, for a given word the attention layers can only access the words positioned before it in the sentence. These models are often called *auto-regressive models*.\n",
    "\n",
    "The pretraining of decoder models usually revolves around predicting the next word in the sentence.\n",
    "\n",
    "These models are best suited for tasks involving text generation.\n",
    "\n",
    "Representatives of this family of models include:\n",
    "- [CTRL](https://huggingface.co/transformers/model_doc/ctrl.html)\n",
    "- [GPT](https://huggingface.co/transformers/model_doc/gpt.html)\n",
    "- [GPT-2](https://huggingface.co/transformers/model_doc/gpt2.html)\n",
    "- [Transformer XL](https://huggingface.co/transformers/model_doc/transformerxl.html)\n",
    "\n",
    "## [Sequence-to-sequence models](https://huggingface.co/course/chapter1/7?fw=pt)"
   ]
  },
  {
   "cell_type": "code",
   "execution_count": 24,
   "id": "4b82c619",
   "metadata": {},
   "outputs": [
    {
     "data": {
      "text/html": [
       "<iframe width=\"640\" height=\"360\" src=\"https://www.youtube.com/embed/0_4KEb08xrE\" allowfullscreen></iframe>"
      ],
      "text/plain": [
       "<IPython.core.display.HTML object>"
      ]
     },
     "execution_count": 24,
     "metadata": {},
     "output_type": "execute_result"
    }
   ],
   "source": [
    "HTML('<iframe width=\"640\" height=\"360\" src=\"https://www.youtube.com/embed/0_4KEb08xrE\" allowfullscreen></iframe>')"
   ]
  },
  {
   "cell_type": "markdown",
   "id": "547cfa8e",
   "metadata": {},
   "source": [
    "Encoder-decoder models (also called *sequence-to-sequence models*) use both parts of the Transformer architecture. At each stage, the attention layers of the encoder can access all the words in the initial sentence, whereas the attention layers of the decoder can only access the words positioned before a given word in the input.\n",
    "\n",
    "The pretraining of these models can be done using the objectives of encoder or decoder models, but usually involves something a bit more complex. For instance, [T5](https://huggingface.co/t5-base) is pretrained by replacing random spans of text (that can contain several words) with a single mask special word, and the objective is then to predict the text that this mask word replaces.\n",
    "\n",
    "Sequence-to-sequence models are best suited for tasks revolving around generating new sentences depending on a given input, such as summarization, translation, or generative question answering.\n",
    "\n",
    "Representatives of this family of models include:\n",
    "- [BART](https://huggingface.co/transformers/model_doc/bart.html)\n",
    "- [mBART](https://huggingface.co/transformers/model_doc/mbart.html)\n",
    "- [Marian](https://huggingface.co/transformers/model_doc/marian.html)\n",
    "- [T5](https://huggingface.co/transformers/model_doc/t5.html)\n",
    "\n",
    "## [Bias and limitations](https://huggingface.co/course/chapter1/8?fw=pt)\n",
    "If your intent is to use a pretrained model or a fine-tuned version in production, please be aware that, while these models are powerful tools, they come with limitations. The biggest of these is that, to enable pretraining on large amounts of data, researchers often scrape all the content they can find, taking the best as well as the worst of what is available on the internet.\n",
    "\n",
    "To give a quick illustration, let's go back to the example of a `fill-mask` pipeline with the BERT model:"
   ]
  },
  {
   "cell_type": "code",
   "execution_count": 25,
   "id": "aa58465d",
   "metadata": {},
   "outputs": [
    {
     "name": "stderr",
     "output_type": "stream",
     "text": [
      "Some weights of the model checkpoint at bert-base-uncased were not used when initializing BertForMaskedLM: ['bert.pooler.dense.bias', 'bert.pooler.dense.weight', 'cls.seq_relationship.bias', 'cls.seq_relationship.weight']\n",
      "- This IS expected if you are initializing BertForMaskedLM from the checkpoint of a model trained on another task or with another architecture (e.g. initializing a BertForSequenceClassification model from a BertForPreTraining model).\n",
      "- This IS NOT expected if you are initializing BertForMaskedLM from the checkpoint of a model that you expect to be exactly identical (initializing a BertForSequenceClassification model from a BertForSequenceClassification model).\n",
      "Device set to use cuda:0\n"
     ]
    },
    {
     "name": "stdout",
     "output_type": "stream",
     "text": [
      "['carpenter', 'lawyer', 'farmer', 'businessman', 'doctor']\n",
      "['nurse', 'maid', 'teacher', 'waitress', 'prostitute']\n"
     ]
    }
   ],
   "source": [
    "unmasker = pipeline(\"fill-mask\", model=\"bert-base-uncased\")\n",
    "# man\n",
    "result = unmasker(\"This man works as a [MASK].\")\n",
    "print([r[\"token_str\"] for r in result])\n",
    "# woman\n",
    "result = unmasker(\"This woman works as a [MASK].\")\n",
    "print([r[\"token_str\"] for r in result])"
   ]
  },
  {
   "cell_type": "markdown",
   "id": "6ad5a6f6",
   "metadata": {},
   "source": [
    "> The next sentence on waiter and waitress does not apply, anymore. Possibly, the model `bert-base-cased` or some other component has been updated.\n",
    "\n",
    "When asked to fill in the missing word in these two sentences, the model gives only one gender-free answer (waiter/waitress). The others are work occupations usually associated with one specific gender — and yes, prostitute ended up in the top 5 possibilities the model associates with \"woman\" and \"work\". This happens even though BERT is one of the rare Transformer models not built by scraping data from all over the internet, but rather using apparently neutral data (it's trained on the [English Wikipedia](https://huggingface.co/datasets/wikipedia) and [BookCorpus](https://huggingface.co/datasets/bookcorpus) datasets).\n",
    "\n",
    "When you use these tools, you therefore need to keep in the back of your mind that the original model you are using could very easily generate sexist, racist, or homophobic content. Fine-tuning the model on your data won't make this intrinsic bias disappear.\n",
    "\n",
    "## [Summary](https://huggingface.co/course/chapter1/9?fw=pt)\n",
    "In this chapter, you saw how to approach different NLP tasks using the high-level `pipeline()` function from 🤗 Transformers. You also saw how to search for and use models in the Hub, as well as how to use the Inference API to test the models directly in your browser.\n",
    "\n",
    "We discussed how Transformer models work at a high level, and talked about the importance of transfer learning and fine-tuning. A key aspect is that you can use the full architecture or only the encoder or decoder, depending on what kind of task you aim to solve. The following table summarizes this:\n",
    "\n",
    "| Model | Examples | Tasks |\n",
    "| ----- | -------- | ----- |\n",
    "| Encoder | ALBERT, BERT, DistilBERT, ELECTRA, RoBERTa | Sentence classification, named entity recognition, extractive question answering |\n",
    "| Decoder | CTRL, GPT, GPT-2, Transformer XL | Text generation |\n",
    "| Encoder-Decoder | BART, T5, Marian, mBART | Summarization, translation, generative question answering |\n",
    "\n",
    "## [End-of-chapter quiz](https://huggingface.co/course/chapter1/10?fw=pt)\n",
    "This chapter covered a lot of ground! Don't worry if you didn't grasp all the details; the next chapters will help you understand how things work under the hood.\n",
    "\n",
    "First, though, let's test what you learned in this chapter!\n",
    "\n",
    "**1. Explore the Hub and look for the `roberta-large-mnli` checkpoint. What task does it perform?**<br>\n",
    "⚪️ Summarization<br>\n",
    "⚫️ Text classification\n",
    "> **Correct!** More precisely, it classifies if two sentences are logically linked across three labels (contradiction, neutral, entailment) — a task also called *natural language inference*.\n",
    "\n",
    "⚪️ Text generation\n",
    "\n",
    "**2. What will the following code return?**\n",
    "```python\n",
    "from transformers import pipeline\n",
    "ner = pipeline(\"ner\", grouped_entities=True)\n",
    "ner(\"My name is Sylvain and I work at Hugging Face in Brooklyn.\")\n",
    "```\n",
    "⚪️ It will return classification scores for this sentence, with labels \"positive\" or \"negative\".<br>\n",
    "⚪️ It will return a generated text completing this sentence.<br>\n",
    "⚫️ It will return the words representing persons, organizations or locations.\n",
    "> **Correct!** Furthermore, with `grouped_entities=True`, it will group together the words belonging to the same entity, like \"Hugging Face\".\n",
    "\n",
    "**3. What should replace … in this code sample?**\n",
    "```python\n",
    "from transformers import pipeline\n",
    "filler = pipeline(\"fill-mask\", model=\"bert-base-cased\")\n",
    "result = filler(\"...\")\n",
    "```\n",
    "⚪️ This <mask> has been waiting for you.<br>\n",
    "⚫️ This [MASK] has been waiting for you.\n",
    "> **Correct!** Correct! This model's mask token is [MASK].\n",
    "\n",
    "⚪️ This man has been waiting for you.<br>\n",
    "\n",
    "**4. Why will this code fail?**\n",
    "```python\n",
    "from transformers import pipeline\n",
    "classifier = pipeline(\"zero-shot-classification\")\n",
    "result = classifier(\"This is a course about the Transformers library\")\n",
    "```\n",
    "⚫️ This pipeline requires that labels be given to classify this text.\n",
    "> **Correct!** Right — the correct code needs to include `candidate_labels=[...]`.\n",
    "\n",
    "⚪️ This pipeline requires several sentences, not just one.<br>\n",
    "⚪️ The 🤗 Transformers library is broken, as usual.<br>\n",
    "⚪️ This pipeline requires longer inputs; this one is too short.<br>\n",
    "\n",
    "**5. What does “transfer learning” mean?**<br>\n",
    "⚪️ Transferring the knowledge of a pretrained model to a new model by training it on the same dataset.<br>\n",
    "⚫️ Transferring the knowledge of a pretrained model to a new model by initializing the second model with the first model's weights.\n",
    "> **Correct!** Correct: when the second model is trained on a new task, it *transfers* the knowledge of the first model.\n",
    "\n",
    "⚪️ Transferring the knowledge of a pretrained model to a new model by building the second model with the same architecture as the first model.\n",
    "\n",
    "**6. True or false? A language model usually does not need labels for its pretraining.**<br>\n",
    "⚫️ True<br>\n",
    "> **Correct!** The pretraining is usually self-supervised, which means the labels are created automatically from the inputs (like predicting the next word or filling in some masked words).\n",
    "\n",
    "⚪️ False<br>\n",
    "\n",
    "**7. Select the sentence that best describes the terms \"model\", \"architecture\", and \"weights\".**<br>\n",
    "⚪️ If a model is a building, its architecture is the blueprint and the weights are the people living inside.<br>\n",
    "⚪️ An architecture is a map to build a model and its weights are the cities represented on the map.<br>\n",
    "⚫️ An architecture is a succession of mathematical functions to build a model and its weights are those functions' parameters.<br>\n",
    "> **Correct!** The same set of mathematical functions (architecture) can be used to build different models by using different parameters (weights).\n",
    "\n",
    "**8. Which of these types of models would you use for completing prompts with generated text?**<br>\n",
    "⚪️ An encoder model<br>\n",
    "⚫️ A decoder model<br>\n",
    "> **Correct!** Decoder models are perfectly suited for text generation from a prompt.\n",
    "\n",
    "⚪️ A sequence-to-sequence model<br>\n",
    "\n",
    "**9. Which of those types of models would you use for summarizing texts?**<br>\n",
    "⚪️ An encoder model<br>\n",
    "⚪️ A decoder model<br>\n",
    "⚫️ A sequence-to-sequence model<br>\n",
    "> **Correct!** Sequence-to-sequence models are perfectly suited for a summarization task.\n",
    "\n",
    "**10. Which of these types of models would you use for classifying text inputs according to certain labels?**<br>\n",
    "⚫️ An encoder model\n",
    "> **Correct!** An encoder model generates a representation of the whole sentence which is perfectly suited for a task like classification.\n",
    "\n",
    "⚪️ A decoder model<br>\n",
    "⚪️ A sequence-to-sequence model\n",
    "\n",
    "**11. What possible source can the bias observed in a model have?**<br>\n",
    "⚫️ The model is a fine-tuned version of a pretrained model and it picked up its bias from it.\n",
    "> **Correct!** When applying Transfer Learning, the bias in the pretrained model used perspires in the fine-tuned model.\n",
    "\n",
    "⚫️ The data the model was trained on is biased.\n",
    "> **Correct!** This is the most obvious source of bias, but not the only one.\n",
    "\n",
    "⚫️ The metric the model was optimizing for is biased.\n",
    "> **Correct!** A less obvious source of bias is the way the model is trained. Your model will blindly optimize for whatever metric you chose, without any second thoughts."
   ]
  }
 ],
 "metadata": {
  "kernelspec": {
   "display_name": "Python 3 (ipykernel)",
   "language": "python",
   "name": "python3"
  },
  "language_info": {
   "codemirror_mode": {
    "name": "ipython",
    "version": 3
   },
   "file_extension": ".py",
   "mimetype": "text/x-python",
   "name": "python",
   "nbconvert_exporter": "python",
   "pygments_lexer": "ipython3",
   "version": "3.12.3"
  }
 },
 "nbformat": 4,
 "nbformat_minor": 5
}
